{
 "cells": [
  {
   "cell_type": "code",
   "execution_count": 1,
   "id": "d8a90647",
   "metadata": {},
   "outputs": [
    {
     "name": "stdout",
     "output_type": "stream",
     "text": [
      "Number of rows and columns: 97 and 8\n",
      "  TRANSACTION_DATE     STORE_NAME     CATEGORY  NUMBER_OF_ITEMS  \\\n",
      "0       01/15/2022  REMKE MARKETS      GROCERY                9   \n",
      "1          1/15/22            CVS      GROCERY                2   \n",
      "2       01/16/2022     APPLEBEE’S  RESTAURANTS                9   \n",
      "3       01/18/2022            CVS      GROCERY                1   \n",
      "4       01/25/2022         COSTCO      GROCERY               41   \n",
      "\n",
      "   TOTAL_AMOUNT_SPENT($)  FETCH_REWARDS_EARNED SPECIAL_OFFER_BONUS(Y/N)  \\\n",
      "0                  30.19                    25                        N   \n",
      "1                  22.87                    25                        N   \n",
      "2                  72.98                    25                        N   \n",
      "3                  10.91                    25                        N   \n",
      "4                 501.94                   214                        Y   \n",
      "\n",
      "  EXCEPTION  \n",
      "0       NaN  \n",
      "1       NaN  \n",
      "2       NaN  \n",
      "3       NaN  \n",
      "4       NaN  \n",
      "   TRANSACTION_DATE                      STORE_NAME     CATEGORY  \\\n",
      "92       09/20/2022                        SPEEDWAY          GAS   \n",
      "93       09/21/2022                      MCDONALD’S  RESTAURANTS   \n",
      "94       09/30/2022                          COSTCO      GROCERY   \n",
      "95       09/30/2022                          KROGER      GROCERY   \n",
      "96       09/30/2022  MAHARAJA INTERNATIONAL GROCERY      GROCERY   \n",
      "\n",
      "    NUMBER_OF_ITEMS  TOTAL_AMOUNT_SPENT($)  FETCH_REWARDS_EARNED  \\\n",
      "92                1                  54.90                    25   \n",
      "93                2                  10.15                    25   \n",
      "94               18                 203.04                    25   \n",
      "95               12                  61.40                    25   \n",
      "96                7                  42.59                    25   \n",
      "\n",
      "   SPECIAL_OFFER_BONUS(Y/N) EXCEPTION  \n",
      "92                        N       NaN  \n",
      "93                        N       NaN  \n",
      "94                        N       NaN  \n",
      "95                        N       NaN  \n",
      "96                        N       NaN  \n"
     ]
    }
   ],
   "source": [
    "import pandas as pd\n",
    "import numpy as np\n",
    "import matplotlib \n",
    "from matplotlib import pyplot as plt\n",
    "monthly_budget = 900\n",
    "df = pd.read_csv (r'FETCH EXPENSE AND REWARDS SUMMARY.csv') #read.csv file stored in capstone project folder\n",
    "# Get the number of rows and columns\n",
    "rows = len(df.axes[0])\n",
    "cols = len(df.axes[1])\n",
    "  \n",
    "# Print the number of rows and columns\n",
    "print(f'Number of rows and columns: {str(rows)} and {str(cols)}')\n",
    "print(df.head(5)) #print top 5 rows\n",
    "print(df.tail(5)) #print bottom 5 rows"
   ]
  },
  {
   "cell_type": "code",
   "execution_count": 3,
   "id": "ac816306",
   "metadata": {},
   "outputs": [
    {
     "name": "stdout",
     "output_type": "stream",
     "text": [
      "[['TRANSACTION_DATE', 'STORE_NAME', 'CATEGORY', 'NUMBER_OF_ITEMS', 'TOTAL_AMOUNT_SPENT($)', 'FETCH_REWARDS_EARNED', 'SPECIAL_OFFER_BONUS(Y/N)', 'EXCEPTION']]\n",
      "TRANSACTION_DATE             object\n",
      "STORE_NAME                   object\n",
      "CATEGORY                     object\n",
      "NUMBER_OF_ITEMS               int64\n",
      "TOTAL_AMOUNT_SPENT($)       float64\n",
      "FETCH_REWARDS_EARNED          int64\n",
      "SPECIAL_OFFER_BONUS(Y/N)     object\n",
      "EXCEPTION                    object\n",
      "dtype: object\n",
      "<class 'pandas.core.frame.DataFrame'>\n"
     ]
    }
   ],
   "source": [
    "index = [list(df.columns)]   \n",
    "print(index)\n",
    "print(df.dtypes)\n",
    "print(type(df))\n"
   ]
  },
  {
   "cell_type": "code",
   "execution_count": 10,
   "id": "296971ea",
   "metadata": {},
   "outputs": [
    {
     "name": "stdout",
     "output_type": "stream",
     "text": [
      "TRANSACTION_DATE            datetime64[ns]\n",
      "STORE_NAME                          object\n",
      "CATEGORY                            object\n",
      "NUMBER_OF_ITEMS                      int64\n",
      "TOTAL_AMOUNT_SPENT($)              float64\n",
      "FETCH_REWARDS_EARNED                 int64\n",
      "SPECIAL_OFFER_BONUS(Y/N)            object\n",
      "EXCEPTION                           object\n",
      "dtype: object\n",
      "  TRANSACTION_DATE     STORE_NAME     CATEGORY  NUMBER_OF_ITEMS  \\\n",
      "0       2022-01-15  REMKE MARKETS      GROCERY                9   \n",
      "1       2022-01-15            CVS      GROCERY                2   \n",
      "2       2022-01-16     APPLEBEE’S  RESTAURANTS                9   \n",
      "3       2022-01-18            CVS      GROCERY                1   \n",
      "4       2022-01-25         COSTCO      GROCERY               41   \n",
      "\n",
      "   TOTAL_AMOUNT_SPENT($)  FETCH_REWARDS_EARNED SPECIAL_OFFER_BONUS(Y/N)  \\\n",
      "0                  30.19                    25                        N   \n",
      "1                  22.87                    25                        N   \n",
      "2                  72.98                    25                        N   \n",
      "3                  10.91                    25                        N   \n",
      "4                 501.94                   214                        Y   \n",
      "\n",
      "  EXCEPTION  \n",
      "0       NaN  \n",
      "1       NaN  \n",
      "2       NaN  \n",
      "3       NaN  \n",
      "4       NaN  \n"
     ]
    }
   ],
   "source": [
    "# formatting to correct datetime\n",
    "df['TRANSACTION_DATE'] = pd.to_datetime(df['TRANSACTION_DATE']) \n",
    "print(df.dtypes)\n",
    "print(df.head(5)) #print top 5 rows"
   ]
  },
  {
   "cell_type": "code",
   "execution_count": 11,
   "id": "1c9d4c79",
   "metadata": {},
   "outputs": [
    {
     "name": "stdout",
     "output_type": "stream",
     "text": [
      "Number of rows and columns: 89 and 8\n",
      "  TRANSACTION_DATE     STORE_NAME     CATEGORY  NUMBER_OF_ITEMS  \\\n",
      "0       2022-01-15  REMKE MARKETS      GROCERY                9   \n",
      "1       2022-01-15            CVS      GROCERY                2   \n",
      "2       2022-01-16     APPLEBEE’S  RESTAURANTS                9   \n",
      "3       2022-01-18            CVS      GROCERY                1   \n",
      "4       2022-01-25         COSTCO      GROCERY               41   \n",
      "\n",
      "   TOTAL_AMOUNT_SPENT($)  FETCH_REWARDS_EARNED SPECIAL_OFFER_BONUS(Y/N)  \\\n",
      "0                  30.19                    25                        N   \n",
      "1                  22.87                    25                        N   \n",
      "2                  72.98                    25                        N   \n",
      "3                  10.91                    25                        N   \n",
      "4                 501.94                   214                        Y   \n",
      "\n",
      "  EXCEPTION  \n",
      "0       NaN  \n",
      "1       NaN  \n",
      "2       NaN  \n",
      "3       NaN  \n",
      "4       NaN  \n"
     ]
    }
   ],
   "source": [
    "#removing rows where fetch rewards=0 and replacing it with new dataframe\n",
    "for rewards in df.index:\n",
    "    if df.loc[rewards, 'FETCH_REWARDS_EARNED'] == 0: #remove rows where fetch rewards earned =0\n",
    "        df.drop(rewards, inplace = True) #replace with new data \n",
    "        \n",
    "#replacing one of the value in category from expenses to medical expenses        \n",
    "df.loc[df['CATEGORY'] == 'EXPENSES', 'CATEGORY'] = 'MEDICAL EXPENSES'   \n",
    "\n",
    "rows = len(df.axes[0]) #Using len() function to get no. of rows\n",
    "cols = len(df.axes[1]) #Using len() function to get no. of columns\n",
    "  \n",
    "# Print the number of rows and columns\n",
    "print(f'Number of rows and columns: {str(rows)} and {str(cols)}')\n",
    "print(df.head(5))"
   ]
  },
  {
   "cell_type": "code",
   "execution_count": 22,
   "id": "07ea206a",
   "metadata": {},
   "outputs": [
    {
     "name": "stdout",
     "output_type": "stream",
     "text": [
      "Analysis of expenses Jan-Sept 2022\n",
      "Total number of items purchased : 815\n",
      "Total amount spent : $ 6508.27\n",
      "Maximum amount spent : $501.94\n",
      "Minimum amount spent : $0.31\n",
      "Average amount spent : $73.13\n",
      "Total number of transaction : 89\n",
      "Average cost of each item : $7.99\n",
      "Average cost per transaction : $73.13\n"
     ]
    }
   ],
   "source": [
    "total_number_of_items_purchased = df['NUMBER_OF_ITEMS'].sum()\n",
    "total_amount_spent = df['TOTAL_AMOUNT_SPENT($)'].sum()\n",
    "maximum_amt_spent = df['TOTAL_AMOUNT_SPENT($)'].max()\n",
    "minimum_amt_spent = df['TOTAL_AMOUNT_SPENT($)'].min()\n",
    "average_amt_spent = round(df['TOTAL_AMOUNT_SPENT($)'].mean(), 2)\n",
    "number_of_trans = df['TRANSACTION_DATE'].count()\n",
    "average_cost_of_each_item = round(total_amount_spent / total_number_of_items_purchased, 2)\n",
    "average_cost_per_transaction = round(total_amount_spent / number_of_trans, 2)\n",
    "\n",
    "print('Analysis of expenses Jan-Sept 2022')\n",
    "print(f'Total number of items purchased : {total_number_of_items_purchased}')\n",
    "print(f'Total amount spent : $ {total_amount_spent}')\n",
    "print(f'Maximum amount spent : ${maximum_amt_spent}')\n",
    "print(f'Minimum amount spent : ${minimum_amt_spent}')\n",
    "print(f'Average amount spent : ${average_amt_spent}')\n",
    "print(f'Total number of transaction : {number_of_trans}')\n",
    "print(f'Average cost of each item : ${average_cost_of_each_item}')\n",
    "print(f'Average cost per transaction : ${average_cost_per_transaction}')\n",
    "\n"
   ]
  },
  {
   "cell_type": "code",
   "execution_count": null,
   "id": "76e3ffd0",
   "metadata": {},
   "outputs": [],
   "source": []
  },
  {
   "cell_type": "code",
   "execution_count": null,
   "id": "ee1f7b9b",
   "metadata": {},
   "outputs": [],
   "source": [
    "\n"
   ]
  },
  {
   "cell_type": "code",
   "execution_count": null,
   "id": "21937df1",
   "metadata": {},
   "outputs": [],
   "source": [
    "\n"
   ]
  },
  {
   "cell_type": "code",
   "execution_count": null,
   "id": "1e6049dc",
   "metadata": {
    "scrolled": false
   },
   "outputs": [],
   "source": []
  },
  {
   "cell_type": "code",
   "execution_count": null,
   "id": "b414d4b0",
   "metadata": {},
   "outputs": [],
   "source": []
  },
  {
   "cell_type": "code",
   "execution_count": null,
   "id": "7014dcbe",
   "metadata": {},
   "outputs": [],
   "source": []
  }
 ],
 "metadata": {
  "kernelspec": {
   "display_name": "Python 3 (ipykernel)",
   "language": "python",
   "name": "python3"
  },
  "language_info": {
   "codemirror_mode": {
    "name": "ipython",
    "version": 3
   },
   "file_extension": ".py",
   "mimetype": "text/x-python",
   "name": "python",
   "nbconvert_exporter": "python",
   "pygments_lexer": "ipython3",
   "version": "3.10.6"
  },
  "vscode": {
   "interpreter": {
    "hash": "7035242809239a9ce3bb05b957fde49fccdabf609ac60690970f94110aed7619"
   }
  }
 },
 "nbformat": 4,
 "nbformat_minor": 5
}
